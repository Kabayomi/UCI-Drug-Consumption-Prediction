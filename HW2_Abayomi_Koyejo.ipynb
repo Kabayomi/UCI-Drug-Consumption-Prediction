{
 "cells": [
  {
   "cell_type": "markdown",
   "metadata": {},
   "source": [
    "# Homework 2\n",
    "## Abayomi Koyejo\n",
    "### Petroleum Engineering"
   ]
  },
  {
   "cell_type": "code",
   "execution_count": 1,
   "metadata": {},
   "outputs": [],
   "source": [
    "#importing requirements\n",
    "import numpy as np\n",
    "import pandas as pd\n",
    "import seaborn as sns\n",
    "sns.set()\n",
    "from matplotlib import pyplot as plt\n",
    "%matplotlib inline"
   ]
  },
  {
   "cell_type": "code",
   "execution_count": 2,
   "metadata": {},
   "outputs": [],
   "source": [
    "#loading data and adding columns\n",
    "data=pd.read_table(\"drug_consumption.data\", sep=',',header=None,names=[\"ID\",\"Age\",\"Gender\",\"Education\",\"Country\",\"Ethnicity\",\"Nscore\",\"Escore\",\"Oscore\",\"Ascore\",\"Cscore\",\"Impulsive\",\"SS\",\"Alcohol\",\"Amphet\",\"Amyl\",\"Benzos\",\"Caff\",\"Cannabis\",\"Choc\",\"Coke\",\"Crack\",\"Ecstacy\",\"Heroin\",\"Ketamine\",\"Legalh\",\"LSD\",\"Meth\",\"Mushroom\",\"Nicotine\",\"Semer\",\"VSA\"])"
   ]
  },
  {
   "cell_type": "code",
   "execution_count": 3,
   "metadata": {},
   "outputs": [
    {
     "data": {
      "text/html": [
       "<div>\n",
       "<style scoped>\n",
       "    .dataframe tbody tr th:only-of-type {\n",
       "        vertical-align: middle;\n",
       "    }\n",
       "\n",
       "    .dataframe tbody tr th {\n",
       "        vertical-align: top;\n",
       "    }\n",
       "\n",
       "    .dataframe thead th {\n",
       "        text-align: right;\n",
       "    }\n",
       "</style>\n",
       "<table border=\"1\" class=\"dataframe\">\n",
       "  <thead>\n",
       "    <tr style=\"text-align: right;\">\n",
       "      <th></th>\n",
       "      <th>ID</th>\n",
       "      <th>Age</th>\n",
       "      <th>Gender</th>\n",
       "      <th>Education</th>\n",
       "      <th>Country</th>\n",
       "      <th>Ethnicity</th>\n",
       "      <th>Nscore</th>\n",
       "      <th>Escore</th>\n",
       "      <th>Oscore</th>\n",
       "      <th>Ascore</th>\n",
       "      <th>...</th>\n",
       "      <th>Ecstacy</th>\n",
       "      <th>Heroin</th>\n",
       "      <th>Ketamine</th>\n",
       "      <th>Legalh</th>\n",
       "      <th>LSD</th>\n",
       "      <th>Meth</th>\n",
       "      <th>Mushroom</th>\n",
       "      <th>Nicotine</th>\n",
       "      <th>Semer</th>\n",
       "      <th>VSA</th>\n",
       "    </tr>\n",
       "  </thead>\n",
       "  <tbody>\n",
       "    <tr>\n",
       "      <th>0</th>\n",
       "      <td>1</td>\n",
       "      <td>0.49788</td>\n",
       "      <td>0.48246</td>\n",
       "      <td>-0.05921</td>\n",
       "      <td>0.96082</td>\n",
       "      <td>0.12600</td>\n",
       "      <td>0.31287</td>\n",
       "      <td>-0.57545</td>\n",
       "      <td>-0.58331</td>\n",
       "      <td>-0.91699</td>\n",
       "      <td>...</td>\n",
       "      <td>CL0</td>\n",
       "      <td>CL0</td>\n",
       "      <td>CL0</td>\n",
       "      <td>CL0</td>\n",
       "      <td>CL0</td>\n",
       "      <td>CL0</td>\n",
       "      <td>CL0</td>\n",
       "      <td>CL2</td>\n",
       "      <td>CL0</td>\n",
       "      <td>CL0</td>\n",
       "    </tr>\n",
       "    <tr>\n",
       "      <th>1</th>\n",
       "      <td>2</td>\n",
       "      <td>-0.07854</td>\n",
       "      <td>-0.48246</td>\n",
       "      <td>1.98437</td>\n",
       "      <td>0.96082</td>\n",
       "      <td>-0.31685</td>\n",
       "      <td>-0.67825</td>\n",
       "      <td>1.93886</td>\n",
       "      <td>1.43533</td>\n",
       "      <td>0.76096</td>\n",
       "      <td>...</td>\n",
       "      <td>CL4</td>\n",
       "      <td>CL0</td>\n",
       "      <td>CL2</td>\n",
       "      <td>CL0</td>\n",
       "      <td>CL2</td>\n",
       "      <td>CL3</td>\n",
       "      <td>CL0</td>\n",
       "      <td>CL4</td>\n",
       "      <td>CL0</td>\n",
       "      <td>CL0</td>\n",
       "    </tr>\n",
       "    <tr>\n",
       "      <th>2</th>\n",
       "      <td>3</td>\n",
       "      <td>0.49788</td>\n",
       "      <td>-0.48246</td>\n",
       "      <td>-0.05921</td>\n",
       "      <td>0.96082</td>\n",
       "      <td>-0.31685</td>\n",
       "      <td>-0.46725</td>\n",
       "      <td>0.80523</td>\n",
       "      <td>-0.84732</td>\n",
       "      <td>-1.62090</td>\n",
       "      <td>...</td>\n",
       "      <td>CL0</td>\n",
       "      <td>CL0</td>\n",
       "      <td>CL0</td>\n",
       "      <td>CL0</td>\n",
       "      <td>CL0</td>\n",
       "      <td>CL0</td>\n",
       "      <td>CL1</td>\n",
       "      <td>CL0</td>\n",
       "      <td>CL0</td>\n",
       "      <td>CL0</td>\n",
       "    </tr>\n",
       "    <tr>\n",
       "      <th>3</th>\n",
       "      <td>4</td>\n",
       "      <td>-0.95197</td>\n",
       "      <td>0.48246</td>\n",
       "      <td>1.16365</td>\n",
       "      <td>0.96082</td>\n",
       "      <td>-0.31685</td>\n",
       "      <td>-0.14882</td>\n",
       "      <td>-0.80615</td>\n",
       "      <td>-0.01928</td>\n",
       "      <td>0.59042</td>\n",
       "      <td>...</td>\n",
       "      <td>CL0</td>\n",
       "      <td>CL0</td>\n",
       "      <td>CL2</td>\n",
       "      <td>CL0</td>\n",
       "      <td>CL0</td>\n",
       "      <td>CL0</td>\n",
       "      <td>CL0</td>\n",
       "      <td>CL2</td>\n",
       "      <td>CL0</td>\n",
       "      <td>CL0</td>\n",
       "    </tr>\n",
       "    <tr>\n",
       "      <th>4</th>\n",
       "      <td>5</td>\n",
       "      <td>0.49788</td>\n",
       "      <td>0.48246</td>\n",
       "      <td>1.98437</td>\n",
       "      <td>0.96082</td>\n",
       "      <td>-0.31685</td>\n",
       "      <td>0.73545</td>\n",
       "      <td>-1.63340</td>\n",
       "      <td>-0.45174</td>\n",
       "      <td>-0.30172</td>\n",
       "      <td>...</td>\n",
       "      <td>CL1</td>\n",
       "      <td>CL0</td>\n",
       "      <td>CL0</td>\n",
       "      <td>CL1</td>\n",
       "      <td>CL0</td>\n",
       "      <td>CL0</td>\n",
       "      <td>CL2</td>\n",
       "      <td>CL2</td>\n",
       "      <td>CL0</td>\n",
       "      <td>CL0</td>\n",
       "    </tr>\n",
       "  </tbody>\n",
       "</table>\n",
       "<p>5 rows × 32 columns</p>\n",
       "</div>"
      ],
      "text/plain": [
       "   ID      Age   Gender  Education  Country  Ethnicity   Nscore   Escore  \\\n",
       "0   1  0.49788  0.48246   -0.05921  0.96082    0.12600  0.31287 -0.57545   \n",
       "1   2 -0.07854 -0.48246    1.98437  0.96082   -0.31685 -0.67825  1.93886   \n",
       "2   3  0.49788 -0.48246   -0.05921  0.96082   -0.31685 -0.46725  0.80523   \n",
       "3   4 -0.95197  0.48246    1.16365  0.96082   -0.31685 -0.14882 -0.80615   \n",
       "4   5  0.49788  0.48246    1.98437  0.96082   -0.31685  0.73545 -1.63340   \n",
       "\n",
       "    Oscore   Ascore ...   Ecstacy  Heroin  Ketamine Legalh  LSD Meth Mushroom  \\\n",
       "0 -0.58331 -0.91699 ...       CL0     CL0       CL0    CL0  CL0  CL0      CL0   \n",
       "1  1.43533  0.76096 ...       CL4     CL0       CL2    CL0  CL2  CL3      CL0   \n",
       "2 -0.84732 -1.62090 ...       CL0     CL0       CL0    CL0  CL0  CL0      CL1   \n",
       "3 -0.01928  0.59042 ...       CL0     CL0       CL2    CL0  CL0  CL0      CL0   \n",
       "4 -0.45174 -0.30172 ...       CL1     CL0       CL0    CL1  CL0  CL0      CL2   \n",
       "\n",
       "  Nicotine Semer  VSA  \n",
       "0      CL2   CL0  CL0  \n",
       "1      CL4   CL0  CL0  \n",
       "2      CL0   CL0  CL0  \n",
       "3      CL2   CL0  CL0  \n",
       "4      CL2   CL0  CL0  \n",
       "\n",
       "[5 rows x 32 columns]"
      ]
     },
     "execution_count": 3,
     "metadata": {},
     "output_type": "execute_result"
    }
   ],
   "source": [
    "data.head()\n",
    "# After reading problem description i understood my imputs to be the  Age, Gender, Education, Country and personality trait scores while the output are the drugs\n",
    "# I will clean the data now and split into imput and outputs after that"
   ]
  },
  {
   "cell_type": "markdown",
   "metadata": {},
   "source": [
    "## Dataset Preparation"
   ]
  },
  {
   "cell_type": "code",
   "execution_count": 4,
   "metadata": {},
   "outputs": [
    {
     "data": {
      "text/plain": [
       "-0.48246000000000006"
      ]
     },
     "execution_count": 4,
     "metadata": {},
     "output_type": "execute_result"
    }
   ],
   "source": [
    "#here i try to map the the values to the gender but the real value is a little off. so i check location to get the full value and put it in my mapping  \n",
    "data[\"Gender\"].iloc[1]\n"
   ]
  },
  {
   "cell_type": "code",
   "execution_count": 5,
   "metadata": {},
   "outputs": [],
   "source": [
    "data['Gender'] = data['Gender'].apply(lambda gender :\n",
    "                      'Female' if gender == 0.48246000000000006 else 'Male')"
   ]
  },
  {
   "cell_type": "code",
   "execution_count": 6,
   "metadata": {},
   "outputs": [
    {
     "data": {
      "text/plain": [
       "0    Female\n",
       "1      Male\n",
       "2      Male\n",
       "3    Female\n",
       "4    Female\n",
       "Name: Gender, dtype: object"
      ]
     },
     "execution_count": 6,
     "metadata": {},
     "output_type": "execute_result"
    }
   ],
   "source": [
    "data[\"Gender\"].head()"
   ]
  },
  {
   "cell_type": "code",
   "execution_count": 7,
   "metadata": {},
   "outputs": [],
   "source": [
    "data['Age'] = data['Age'].apply( lambda age : '18-24' if age == -0.9519700000000001 else '25-34' if age == -0.07854\n",
    "                                else '35-44' if age == 0.49788000000000004\n",
    "                                else '45-54' if age == 1.09449\n",
    "                                else '55-64' if age == 1.82213\n",
    "                                else  '65+' if age == 2.59171\n",
    "                                else None)\n"
   ]
  },
  {
   "cell_type": "code",
   "execution_count": 8,
   "metadata": {},
   "outputs": [
    {
     "data": {
      "text/plain": [
       "0    35-44\n",
       "1    25-34\n",
       "2    35-44\n",
       "3    18-24\n",
       "4    35-44\n",
       "Name: Age, dtype: object"
      ]
     },
     "execution_count": 8,
     "metadata": {},
     "output_type": "execute_result"
    }
   ],
   "source": [
    "data['Age'].head()"
   ]
  },
  {
   "cell_type": "code",
   "execution_count": 9,
   "metadata": {},
   "outputs": [],
   "source": [
    "data['Education'] = data['Education'].apply( lambda edu : 'Left before 18' if edu == -2.43591 else 'Left before 18' if edu == -1.7379 else 'Left before 18' if edu == -1.43719  else 'Left at 18' if edu == -1.22751\n",
    "                                else 'Some College' if edu == -0.6111300000000001\n",
    "                                else 'Certificate' if edu == -0.059210000000000006\n",
    "                                else  'University' if edu ==0.45468000000000003 else 'Masters' if edu == 1.16365 else 'PhD' if edu == 1.98437\n",
    "                                else None)"
   ]
  },
  {
   "cell_type": "code",
   "execution_count": 10,
   "metadata": {},
   "outputs": [
    {
     "data": {
      "text/plain": [
       "0    Certificate\n",
       "1            PhD\n",
       "2    Certificate\n",
       "3        Masters\n",
       "4            PhD\n",
       "Name: Education, dtype: object"
      ]
     },
     "execution_count": 10,
     "metadata": {},
     "output_type": "execute_result"
    }
   ],
   "source": [
    "data['Education'].head()"
   ]
  },
  {
   "cell_type": "code",
   "execution_count": 11,
   "metadata": {},
   "outputs": [],
   "source": [
    "data['Country'] = data.Country.apply(lambda cont : 'Australia' if cont == -0.09765 else 'Republc of Ireland' if cont == 0.21128\n",
    "                                else 'Canada' if cont == 0.24923\n",
    "                                else 'New Zealand' if cont == -0.46841\n",
    "                                else  'Others' if cont == -0.28519 else 'UK' if cont == 0.9608200000000001 else 'USA' if cont == -0.57009\n",
    "                                else None)\n"
   ]
  },
  {
   "cell_type": "code",
   "execution_count": 12,
   "metadata": {},
   "outputs": [
    {
     "data": {
      "text/plain": [
       "0        UK\n",
       "1        UK\n",
       "2        UK\n",
       "3        UK\n",
       "4        UK\n",
       "5    Canada\n",
       "6       USA\n",
       "7        UK\n",
       "8    Canada\n",
       "9        UK\n",
       "Name: Country, dtype: object"
      ]
     },
     "execution_count": 12,
     "metadata": {},
     "output_type": "execute_result"
    }
   ],
   "source": [
    "data['Country'].head(10)"
   ]
  },
  {
   "cell_type": "code",
   "execution_count": 13,
   "metadata": {},
   "outputs": [],
   "source": [
    "data['Ethnicity'] = data.Ethnicity.apply(lambda eth : 'Asian' if eth == -0.502120 else 'Black' if eth == -1.1070200000000001\n",
    "                                else 'Black/Asian' if eth == 1.907250\n",
    "                                else 'White/Asian' if eth == 0.12600\n",
    "                                else  'White/Black' if eth == -0.22166 else 'Others' if eth == 0.11440 else 'White' if eth == -0.31685\n",
    "                                else None)"
   ]
  },
  {
   "cell_type": "code",
   "execution_count": 14,
   "metadata": {},
   "outputs": [
    {
     "data": {
      "text/plain": [
       "0    White/Asian\n",
       "1          White\n",
       "2          White\n",
       "3          White\n",
       "4          White\n",
       "Name: Ethnicity, dtype: object"
      ]
     },
     "execution_count": 14,
     "metadata": {},
     "output_type": "execute_result"
    }
   ],
   "source": [
    "data['Ethnicity'].head()"
   ]
  },
  {
   "cell_type": "code",
   "execution_count": 15,
   "metadata": {},
   "outputs": [
    {
     "data": {
      "text/html": [
       "<div>\n",
       "<style scoped>\n",
       "    .dataframe tbody tr th:only-of-type {\n",
       "        vertical-align: middle;\n",
       "    }\n",
       "\n",
       "    .dataframe tbody tr th {\n",
       "        vertical-align: top;\n",
       "    }\n",
       "\n",
       "    .dataframe thead th {\n",
       "        text-align: right;\n",
       "    }\n",
       "</style>\n",
       "<table border=\"1\" class=\"dataframe\">\n",
       "  <thead>\n",
       "    <tr style=\"text-align: right;\">\n",
       "      <th></th>\n",
       "      <th>ID</th>\n",
       "      <th>Age</th>\n",
       "      <th>Gender</th>\n",
       "      <th>Education</th>\n",
       "      <th>Country</th>\n",
       "      <th>Ethnicity</th>\n",
       "      <th>Nscore</th>\n",
       "      <th>Escore</th>\n",
       "      <th>Oscore</th>\n",
       "      <th>Ascore</th>\n",
       "      <th>...</th>\n",
       "      <th>Ecstacy</th>\n",
       "      <th>Heroin</th>\n",
       "      <th>Ketamine</th>\n",
       "      <th>Legalh</th>\n",
       "      <th>LSD</th>\n",
       "      <th>Meth</th>\n",
       "      <th>Mushroom</th>\n",
       "      <th>Nicotine</th>\n",
       "      <th>Semer</th>\n",
       "      <th>VSA</th>\n",
       "    </tr>\n",
       "  </thead>\n",
       "  <tbody>\n",
       "    <tr>\n",
       "      <th>0</th>\n",
       "      <td>1</td>\n",
       "      <td>35-44</td>\n",
       "      <td>Female</td>\n",
       "      <td>Certificate</td>\n",
       "      <td>UK</td>\n",
       "      <td>White/Asian</td>\n",
       "      <td>0.31287</td>\n",
       "      <td>-0.57545</td>\n",
       "      <td>-0.58331</td>\n",
       "      <td>-0.91699</td>\n",
       "      <td>...</td>\n",
       "      <td>CL0</td>\n",
       "      <td>CL0</td>\n",
       "      <td>CL0</td>\n",
       "      <td>CL0</td>\n",
       "      <td>CL0</td>\n",
       "      <td>CL0</td>\n",
       "      <td>CL0</td>\n",
       "      <td>CL2</td>\n",
       "      <td>CL0</td>\n",
       "      <td>CL0</td>\n",
       "    </tr>\n",
       "    <tr>\n",
       "      <th>1</th>\n",
       "      <td>2</td>\n",
       "      <td>25-34</td>\n",
       "      <td>Male</td>\n",
       "      <td>PhD</td>\n",
       "      <td>UK</td>\n",
       "      <td>White</td>\n",
       "      <td>-0.67825</td>\n",
       "      <td>1.93886</td>\n",
       "      <td>1.43533</td>\n",
       "      <td>0.76096</td>\n",
       "      <td>...</td>\n",
       "      <td>CL4</td>\n",
       "      <td>CL0</td>\n",
       "      <td>CL2</td>\n",
       "      <td>CL0</td>\n",
       "      <td>CL2</td>\n",
       "      <td>CL3</td>\n",
       "      <td>CL0</td>\n",
       "      <td>CL4</td>\n",
       "      <td>CL0</td>\n",
       "      <td>CL0</td>\n",
       "    </tr>\n",
       "    <tr>\n",
       "      <th>2</th>\n",
       "      <td>3</td>\n",
       "      <td>35-44</td>\n",
       "      <td>Male</td>\n",
       "      <td>Certificate</td>\n",
       "      <td>UK</td>\n",
       "      <td>White</td>\n",
       "      <td>-0.46725</td>\n",
       "      <td>0.80523</td>\n",
       "      <td>-0.84732</td>\n",
       "      <td>-1.62090</td>\n",
       "      <td>...</td>\n",
       "      <td>CL0</td>\n",
       "      <td>CL0</td>\n",
       "      <td>CL0</td>\n",
       "      <td>CL0</td>\n",
       "      <td>CL0</td>\n",
       "      <td>CL0</td>\n",
       "      <td>CL1</td>\n",
       "      <td>CL0</td>\n",
       "      <td>CL0</td>\n",
       "      <td>CL0</td>\n",
       "    </tr>\n",
       "    <tr>\n",
       "      <th>3</th>\n",
       "      <td>4</td>\n",
       "      <td>18-24</td>\n",
       "      <td>Female</td>\n",
       "      <td>Masters</td>\n",
       "      <td>UK</td>\n",
       "      <td>White</td>\n",
       "      <td>-0.14882</td>\n",
       "      <td>-0.80615</td>\n",
       "      <td>-0.01928</td>\n",
       "      <td>0.59042</td>\n",
       "      <td>...</td>\n",
       "      <td>CL0</td>\n",
       "      <td>CL0</td>\n",
       "      <td>CL2</td>\n",
       "      <td>CL0</td>\n",
       "      <td>CL0</td>\n",
       "      <td>CL0</td>\n",
       "      <td>CL0</td>\n",
       "      <td>CL2</td>\n",
       "      <td>CL0</td>\n",
       "      <td>CL0</td>\n",
       "    </tr>\n",
       "    <tr>\n",
       "      <th>4</th>\n",
       "      <td>5</td>\n",
       "      <td>35-44</td>\n",
       "      <td>Female</td>\n",
       "      <td>PhD</td>\n",
       "      <td>UK</td>\n",
       "      <td>White</td>\n",
       "      <td>0.73545</td>\n",
       "      <td>-1.63340</td>\n",
       "      <td>-0.45174</td>\n",
       "      <td>-0.30172</td>\n",
       "      <td>...</td>\n",
       "      <td>CL1</td>\n",
       "      <td>CL0</td>\n",
       "      <td>CL0</td>\n",
       "      <td>CL1</td>\n",
       "      <td>CL0</td>\n",
       "      <td>CL0</td>\n",
       "      <td>CL2</td>\n",
       "      <td>CL2</td>\n",
       "      <td>CL0</td>\n",
       "      <td>CL0</td>\n",
       "    </tr>\n",
       "  </tbody>\n",
       "</table>\n",
       "<p>5 rows × 32 columns</p>\n",
       "</div>"
      ],
      "text/plain": [
       "   ID    Age  Gender    Education Country    Ethnicity   Nscore   Escore  \\\n",
       "0   1  35-44  Female  Certificate      UK  White/Asian  0.31287 -0.57545   \n",
       "1   2  25-34    Male          PhD      UK        White -0.67825  1.93886   \n",
       "2   3  35-44    Male  Certificate      UK        White -0.46725  0.80523   \n",
       "3   4  18-24  Female      Masters      UK        White -0.14882 -0.80615   \n",
       "4   5  35-44  Female          PhD      UK        White  0.73545 -1.63340   \n",
       "\n",
       "    Oscore   Ascore ...   Ecstacy  Heroin  Ketamine Legalh  LSD Meth Mushroom  \\\n",
       "0 -0.58331 -0.91699 ...       CL0     CL0       CL0    CL0  CL0  CL0      CL0   \n",
       "1  1.43533  0.76096 ...       CL4     CL0       CL2    CL0  CL2  CL3      CL0   \n",
       "2 -0.84732 -1.62090 ...       CL0     CL0       CL0    CL0  CL0  CL0      CL1   \n",
       "3 -0.01928  0.59042 ...       CL0     CL0       CL2    CL0  CL0  CL0      CL0   \n",
       "4 -0.45174 -0.30172 ...       CL1     CL0       CL0    CL1  CL0  CL0      CL2   \n",
       "\n",
       "  Nicotine Semer  VSA  \n",
       "0      CL2   CL0  CL0  \n",
       "1      CL4   CL0  CL0  \n",
       "2      CL0   CL0  CL0  \n",
       "3      CL2   CL0  CL0  \n",
       "4      CL2   CL0  CL0  \n",
       "\n",
       "[5 rows x 32 columns]"
      ]
     },
     "execution_count": 15,
     "metadata": {},
     "output_type": "execute_result"
    }
   ],
   "source": [
    "data.head()\n"
   ]
  },
  {
   "cell_type": "code",
   "execution_count": 16,
   "metadata": {},
   "outputs": [],
   "source": [
    "data[\"Age\"] = data.Age.map({'18-24':0, '25-34':1,'35-44':2, '45-54':3, '55-64':4, '65+':5})\n",
    "#data[\"Gender\"] = data.Gender.map({'Female':0, 'Male':1})\n",
    "data[\"Education\"] = data.Education.map({'Left before 18':0, 'Left at 18':1, 'Some College':2, 'Certificate':3, 'University':4, 'Masters':5, 'PhD':6})\n",
    "data = pd.get_dummies(data, dummy_na=False, columns=['Gender'])\n",
    "#encoding categorical data to numeric for Age and Education and getting dummies for gender"
   ]
  },
  {
   "cell_type": "code",
   "execution_count": 17,
   "metadata": {},
   "outputs": [
    {
     "data": {
      "text/html": [
       "<div>\n",
       "<style scoped>\n",
       "    .dataframe tbody tr th:only-of-type {\n",
       "        vertical-align: middle;\n",
       "    }\n",
       "\n",
       "    .dataframe tbody tr th {\n",
       "        vertical-align: top;\n",
       "    }\n",
       "\n",
       "    .dataframe thead th {\n",
       "        text-align: right;\n",
       "    }\n",
       "</style>\n",
       "<table border=\"1\" class=\"dataframe\">\n",
       "  <thead>\n",
       "    <tr style=\"text-align: right;\">\n",
       "      <th></th>\n",
       "      <th>ID</th>\n",
       "      <th>Age</th>\n",
       "      <th>Education</th>\n",
       "      <th>Country</th>\n",
       "      <th>Ethnicity</th>\n",
       "      <th>Nscore</th>\n",
       "      <th>Escore</th>\n",
       "      <th>Oscore</th>\n",
       "      <th>Ascore</th>\n",
       "      <th>Cscore</th>\n",
       "      <th>...</th>\n",
       "      <th>Ketamine</th>\n",
       "      <th>Legalh</th>\n",
       "      <th>LSD</th>\n",
       "      <th>Meth</th>\n",
       "      <th>Mushroom</th>\n",
       "      <th>Nicotine</th>\n",
       "      <th>Semer</th>\n",
       "      <th>VSA</th>\n",
       "      <th>Gender_Female</th>\n",
       "      <th>Gender_Male</th>\n",
       "    </tr>\n",
       "  </thead>\n",
       "  <tbody>\n",
       "    <tr>\n",
       "      <th>0</th>\n",
       "      <td>1</td>\n",
       "      <td>2</td>\n",
       "      <td>3</td>\n",
       "      <td>UK</td>\n",
       "      <td>White/Asian</td>\n",
       "      <td>0.31287</td>\n",
       "      <td>-0.57545</td>\n",
       "      <td>-0.58331</td>\n",
       "      <td>-0.91699</td>\n",
       "      <td>-0.00665</td>\n",
       "      <td>...</td>\n",
       "      <td>CL0</td>\n",
       "      <td>CL0</td>\n",
       "      <td>CL0</td>\n",
       "      <td>CL0</td>\n",
       "      <td>CL0</td>\n",
       "      <td>CL2</td>\n",
       "      <td>CL0</td>\n",
       "      <td>CL0</td>\n",
       "      <td>1</td>\n",
       "      <td>0</td>\n",
       "    </tr>\n",
       "    <tr>\n",
       "      <th>1</th>\n",
       "      <td>2</td>\n",
       "      <td>1</td>\n",
       "      <td>6</td>\n",
       "      <td>UK</td>\n",
       "      <td>White</td>\n",
       "      <td>-0.67825</td>\n",
       "      <td>1.93886</td>\n",
       "      <td>1.43533</td>\n",
       "      <td>0.76096</td>\n",
       "      <td>-0.14277</td>\n",
       "      <td>...</td>\n",
       "      <td>CL2</td>\n",
       "      <td>CL0</td>\n",
       "      <td>CL2</td>\n",
       "      <td>CL3</td>\n",
       "      <td>CL0</td>\n",
       "      <td>CL4</td>\n",
       "      <td>CL0</td>\n",
       "      <td>CL0</td>\n",
       "      <td>0</td>\n",
       "      <td>1</td>\n",
       "    </tr>\n",
       "    <tr>\n",
       "      <th>2</th>\n",
       "      <td>3</td>\n",
       "      <td>2</td>\n",
       "      <td>3</td>\n",
       "      <td>UK</td>\n",
       "      <td>White</td>\n",
       "      <td>-0.46725</td>\n",
       "      <td>0.80523</td>\n",
       "      <td>-0.84732</td>\n",
       "      <td>-1.62090</td>\n",
       "      <td>-1.01450</td>\n",
       "      <td>...</td>\n",
       "      <td>CL0</td>\n",
       "      <td>CL0</td>\n",
       "      <td>CL0</td>\n",
       "      <td>CL0</td>\n",
       "      <td>CL1</td>\n",
       "      <td>CL0</td>\n",
       "      <td>CL0</td>\n",
       "      <td>CL0</td>\n",
       "      <td>0</td>\n",
       "      <td>1</td>\n",
       "    </tr>\n",
       "    <tr>\n",
       "      <th>3</th>\n",
       "      <td>4</td>\n",
       "      <td>0</td>\n",
       "      <td>5</td>\n",
       "      <td>UK</td>\n",
       "      <td>White</td>\n",
       "      <td>-0.14882</td>\n",
       "      <td>-0.80615</td>\n",
       "      <td>-0.01928</td>\n",
       "      <td>0.59042</td>\n",
       "      <td>0.58489</td>\n",
       "      <td>...</td>\n",
       "      <td>CL2</td>\n",
       "      <td>CL0</td>\n",
       "      <td>CL0</td>\n",
       "      <td>CL0</td>\n",
       "      <td>CL0</td>\n",
       "      <td>CL2</td>\n",
       "      <td>CL0</td>\n",
       "      <td>CL0</td>\n",
       "      <td>1</td>\n",
       "      <td>0</td>\n",
       "    </tr>\n",
       "    <tr>\n",
       "      <th>4</th>\n",
       "      <td>5</td>\n",
       "      <td>2</td>\n",
       "      <td>6</td>\n",
       "      <td>UK</td>\n",
       "      <td>White</td>\n",
       "      <td>0.73545</td>\n",
       "      <td>-1.63340</td>\n",
       "      <td>-0.45174</td>\n",
       "      <td>-0.30172</td>\n",
       "      <td>1.30612</td>\n",
       "      <td>...</td>\n",
       "      <td>CL0</td>\n",
       "      <td>CL1</td>\n",
       "      <td>CL0</td>\n",
       "      <td>CL0</td>\n",
       "      <td>CL2</td>\n",
       "      <td>CL2</td>\n",
       "      <td>CL0</td>\n",
       "      <td>CL0</td>\n",
       "      <td>1</td>\n",
       "      <td>0</td>\n",
       "    </tr>\n",
       "  </tbody>\n",
       "</table>\n",
       "<p>5 rows × 33 columns</p>\n",
       "</div>"
      ],
      "text/plain": [
       "   ID  Age  Education Country    Ethnicity   Nscore   Escore   Oscore  \\\n",
       "0   1    2          3      UK  White/Asian  0.31287 -0.57545 -0.58331   \n",
       "1   2    1          6      UK        White -0.67825  1.93886  1.43533   \n",
       "2   3    2          3      UK        White -0.46725  0.80523 -0.84732   \n",
       "3   4    0          5      UK        White -0.14882 -0.80615 -0.01928   \n",
       "4   5    2          6      UK        White  0.73545 -1.63340 -0.45174   \n",
       "\n",
       "    Ascore   Cscore     ...      Ketamine  Legalh  LSD Meth Mushroom Nicotine  \\\n",
       "0 -0.91699 -0.00665     ...           CL0     CL0  CL0  CL0      CL0      CL2   \n",
       "1  0.76096 -0.14277     ...           CL2     CL0  CL2  CL3      CL0      CL4   \n",
       "2 -1.62090 -1.01450     ...           CL0     CL0  CL0  CL0      CL1      CL0   \n",
       "3  0.59042  0.58489     ...           CL2     CL0  CL0  CL0      CL0      CL2   \n",
       "4 -0.30172  1.30612     ...           CL0     CL1  CL0  CL0      CL2      CL2   \n",
       "\n",
       "  Semer  VSA Gender_Female Gender_Male  \n",
       "0   CL0  CL0             1           0  \n",
       "1   CL0  CL0             0           1  \n",
       "2   CL0  CL0             0           1  \n",
       "3   CL0  CL0             1           0  \n",
       "4   CL0  CL0             1           0  \n",
       "\n",
       "[5 rows x 33 columns]"
      ]
     },
     "execution_count": 17,
     "metadata": {},
     "output_type": "execute_result"
    }
   ],
   "source": [
    "data.head()"
   ]
  },
  {
   "cell_type": "code",
   "execution_count": 18,
   "metadata": {},
   "outputs": [],
   "source": [
    "# All done now i create input(X) and output(drug) dataframes"
   ]
  },
  {
   "cell_type": "code",
   "execution_count": 19,
   "metadata": {},
   "outputs": [
    {
     "data": {
      "text/html": [
       "<div>\n",
       "<style scoped>\n",
       "    .dataframe tbody tr th:only-of-type {\n",
       "        vertical-align: middle;\n",
       "    }\n",
       "\n",
       "    .dataframe tbody tr th {\n",
       "        vertical-align: top;\n",
       "    }\n",
       "\n",
       "    .dataframe thead th {\n",
       "        text-align: right;\n",
       "    }\n",
       "</style>\n",
       "<table border=\"1\" class=\"dataframe\">\n",
       "  <thead>\n",
       "    <tr style=\"text-align: right;\">\n",
       "      <th></th>\n",
       "      <th>Age</th>\n",
       "      <th>Gender_Male</th>\n",
       "      <th>Gender_Female</th>\n",
       "      <th>Education</th>\n",
       "      <th>Nscore</th>\n",
       "      <th>Escore</th>\n",
       "      <th>Oscore</th>\n",
       "      <th>Ascore</th>\n",
       "      <th>Cscore</th>\n",
       "      <th>Impulsive</th>\n",
       "      <th>SS</th>\n",
       "    </tr>\n",
       "  </thead>\n",
       "  <tbody>\n",
       "    <tr>\n",
       "      <th>0</th>\n",
       "      <td>2</td>\n",
       "      <td>0</td>\n",
       "      <td>1</td>\n",
       "      <td>3</td>\n",
       "      <td>0.31287</td>\n",
       "      <td>-0.57545</td>\n",
       "      <td>-0.58331</td>\n",
       "      <td>-0.91699</td>\n",
       "      <td>-0.00665</td>\n",
       "      <td>-0.21712</td>\n",
       "      <td>-1.18084</td>\n",
       "    </tr>\n",
       "    <tr>\n",
       "      <th>1</th>\n",
       "      <td>1</td>\n",
       "      <td>1</td>\n",
       "      <td>0</td>\n",
       "      <td>6</td>\n",
       "      <td>-0.67825</td>\n",
       "      <td>1.93886</td>\n",
       "      <td>1.43533</td>\n",
       "      <td>0.76096</td>\n",
       "      <td>-0.14277</td>\n",
       "      <td>-0.71126</td>\n",
       "      <td>-0.21575</td>\n",
       "    </tr>\n",
       "    <tr>\n",
       "      <th>2</th>\n",
       "      <td>2</td>\n",
       "      <td>1</td>\n",
       "      <td>0</td>\n",
       "      <td>3</td>\n",
       "      <td>-0.46725</td>\n",
       "      <td>0.80523</td>\n",
       "      <td>-0.84732</td>\n",
       "      <td>-1.62090</td>\n",
       "      <td>-1.01450</td>\n",
       "      <td>-1.37983</td>\n",
       "      <td>0.40148</td>\n",
       "    </tr>\n",
       "    <tr>\n",
       "      <th>3</th>\n",
       "      <td>0</td>\n",
       "      <td>0</td>\n",
       "      <td>1</td>\n",
       "      <td>5</td>\n",
       "      <td>-0.14882</td>\n",
       "      <td>-0.80615</td>\n",
       "      <td>-0.01928</td>\n",
       "      <td>0.59042</td>\n",
       "      <td>0.58489</td>\n",
       "      <td>-1.37983</td>\n",
       "      <td>-1.18084</td>\n",
       "    </tr>\n",
       "    <tr>\n",
       "      <th>4</th>\n",
       "      <td>2</td>\n",
       "      <td>0</td>\n",
       "      <td>1</td>\n",
       "      <td>6</td>\n",
       "      <td>0.73545</td>\n",
       "      <td>-1.63340</td>\n",
       "      <td>-0.45174</td>\n",
       "      <td>-0.30172</td>\n",
       "      <td>1.30612</td>\n",
       "      <td>-0.21712</td>\n",
       "      <td>-0.21575</td>\n",
       "    </tr>\n",
       "  </tbody>\n",
       "</table>\n",
       "</div>"
      ],
      "text/plain": [
       "   Age  Gender_Male  Gender_Female  Education   Nscore   Escore   Oscore  \\\n",
       "0    2            0              1          3  0.31287 -0.57545 -0.58331   \n",
       "1    1            1              0          6 -0.67825  1.93886  1.43533   \n",
       "2    2            1              0          3 -0.46725  0.80523 -0.84732   \n",
       "3    0            0              1          5 -0.14882 -0.80615 -0.01928   \n",
       "4    2            0              1          6  0.73545 -1.63340 -0.45174   \n",
       "\n",
       "    Ascore   Cscore  Impulsive       SS  \n",
       "0 -0.91699 -0.00665   -0.21712 -1.18084  \n",
       "1  0.76096 -0.14277   -0.71126 -0.21575  \n",
       "2 -1.62090 -1.01450   -1.37983  0.40148  \n",
       "3  0.59042  0.58489   -1.37983 -1.18084  \n",
       "4 -0.30172  1.30612   -0.21712 -0.21575  "
      ]
     },
     "execution_count": 19,
     "metadata": {},
     "output_type": "execute_result"
    }
   ],
   "source": [
    "X = data[['Age', 'Gender_Male', 'Gender_Female', 'Education', 'Nscore', 'Escore', 'Oscore', 'Ascore', 'Cscore', 'Impulsive', 'SS']]\n",
    "X.head()\n",
    "# Dropped ID, Country and Ethnicity. Ethnicity highly skwed towards white(91%) and ID and country arent really a big decider in this case "
   ]
  },
  {
   "cell_type": "code",
   "execution_count": 20,
   "metadata": {},
   "outputs": [
    {
     "data": {
      "text/html": [
       "<div>\n",
       "<style scoped>\n",
       "    .dataframe tbody tr th:only-of-type {\n",
       "        vertical-align: middle;\n",
       "    }\n",
       "\n",
       "    .dataframe tbody tr th {\n",
       "        vertical-align: top;\n",
       "    }\n",
       "\n",
       "    .dataframe thead th {\n",
       "        text-align: right;\n",
       "    }\n",
       "</style>\n",
       "<table border=\"1\" class=\"dataframe\">\n",
       "  <thead>\n",
       "    <tr style=\"text-align: right;\">\n",
       "      <th></th>\n",
       "      <th>Alcohol</th>\n",
       "      <th>Amphet</th>\n",
       "      <th>Amyl</th>\n",
       "      <th>Benzos</th>\n",
       "      <th>Caff</th>\n",
       "      <th>Cannabis</th>\n",
       "      <th>Choc</th>\n",
       "      <th>Coke</th>\n",
       "      <th>Crack</th>\n",
       "      <th>Ecstacy</th>\n",
       "      <th>Heroin</th>\n",
       "      <th>Ketamine</th>\n",
       "      <th>Legalh</th>\n",
       "      <th>LSD</th>\n",
       "      <th>Meth</th>\n",
       "      <th>Mushroom</th>\n",
       "      <th>Nicotine</th>\n",
       "      <th>Semer</th>\n",
       "      <th>VSA</th>\n",
       "    </tr>\n",
       "  </thead>\n",
       "  <tbody>\n",
       "    <tr>\n",
       "      <th>0</th>\n",
       "      <td>CL5</td>\n",
       "      <td>CL2</td>\n",
       "      <td>CL0</td>\n",
       "      <td>CL2</td>\n",
       "      <td>CL6</td>\n",
       "      <td>CL0</td>\n",
       "      <td>CL5</td>\n",
       "      <td>CL0</td>\n",
       "      <td>CL0</td>\n",
       "      <td>CL0</td>\n",
       "      <td>CL0</td>\n",
       "      <td>CL0</td>\n",
       "      <td>CL0</td>\n",
       "      <td>CL0</td>\n",
       "      <td>CL0</td>\n",
       "      <td>CL0</td>\n",
       "      <td>CL2</td>\n",
       "      <td>CL0</td>\n",
       "      <td>CL0</td>\n",
       "    </tr>\n",
       "    <tr>\n",
       "      <th>1</th>\n",
       "      <td>CL5</td>\n",
       "      <td>CL2</td>\n",
       "      <td>CL2</td>\n",
       "      <td>CL0</td>\n",
       "      <td>CL6</td>\n",
       "      <td>CL4</td>\n",
       "      <td>CL6</td>\n",
       "      <td>CL3</td>\n",
       "      <td>CL0</td>\n",
       "      <td>CL4</td>\n",
       "      <td>CL0</td>\n",
       "      <td>CL2</td>\n",
       "      <td>CL0</td>\n",
       "      <td>CL2</td>\n",
       "      <td>CL3</td>\n",
       "      <td>CL0</td>\n",
       "      <td>CL4</td>\n",
       "      <td>CL0</td>\n",
       "      <td>CL0</td>\n",
       "    </tr>\n",
       "    <tr>\n",
       "      <th>2</th>\n",
       "      <td>CL6</td>\n",
       "      <td>CL0</td>\n",
       "      <td>CL0</td>\n",
       "      <td>CL0</td>\n",
       "      <td>CL6</td>\n",
       "      <td>CL3</td>\n",
       "      <td>CL4</td>\n",
       "      <td>CL0</td>\n",
       "      <td>CL0</td>\n",
       "      <td>CL0</td>\n",
       "      <td>CL0</td>\n",
       "      <td>CL0</td>\n",
       "      <td>CL0</td>\n",
       "      <td>CL0</td>\n",
       "      <td>CL0</td>\n",
       "      <td>CL1</td>\n",
       "      <td>CL0</td>\n",
       "      <td>CL0</td>\n",
       "      <td>CL0</td>\n",
       "    </tr>\n",
       "    <tr>\n",
       "      <th>3</th>\n",
       "      <td>CL4</td>\n",
       "      <td>CL0</td>\n",
       "      <td>CL0</td>\n",
       "      <td>CL3</td>\n",
       "      <td>CL5</td>\n",
       "      <td>CL2</td>\n",
       "      <td>CL4</td>\n",
       "      <td>CL2</td>\n",
       "      <td>CL0</td>\n",
       "      <td>CL0</td>\n",
       "      <td>CL0</td>\n",
       "      <td>CL2</td>\n",
       "      <td>CL0</td>\n",
       "      <td>CL0</td>\n",
       "      <td>CL0</td>\n",
       "      <td>CL0</td>\n",
       "      <td>CL2</td>\n",
       "      <td>CL0</td>\n",
       "      <td>CL0</td>\n",
       "    </tr>\n",
       "    <tr>\n",
       "      <th>4</th>\n",
       "      <td>CL4</td>\n",
       "      <td>CL1</td>\n",
       "      <td>CL1</td>\n",
       "      <td>CL0</td>\n",
       "      <td>CL6</td>\n",
       "      <td>CL3</td>\n",
       "      <td>CL6</td>\n",
       "      <td>CL0</td>\n",
       "      <td>CL0</td>\n",
       "      <td>CL1</td>\n",
       "      <td>CL0</td>\n",
       "      <td>CL0</td>\n",
       "      <td>CL1</td>\n",
       "      <td>CL0</td>\n",
       "      <td>CL0</td>\n",
       "      <td>CL2</td>\n",
       "      <td>CL2</td>\n",
       "      <td>CL0</td>\n",
       "      <td>CL0</td>\n",
       "    </tr>\n",
       "  </tbody>\n",
       "</table>\n",
       "</div>"
      ],
      "text/plain": [
       "  Alcohol Amphet Amyl Benzos Caff Cannabis Choc Coke Crack Ecstacy Heroin  \\\n",
       "0     CL5    CL2  CL0    CL2  CL6      CL0  CL5  CL0   CL0     CL0    CL0   \n",
       "1     CL5    CL2  CL2    CL0  CL6      CL4  CL6  CL3   CL0     CL4    CL0   \n",
       "2     CL6    CL0  CL0    CL0  CL6      CL3  CL4  CL0   CL0     CL0    CL0   \n",
       "3     CL4    CL0  CL0    CL3  CL5      CL2  CL4  CL2   CL0     CL0    CL0   \n",
       "4     CL4    CL1  CL1    CL0  CL6      CL3  CL6  CL0   CL0     CL1    CL0   \n",
       "\n",
       "  Ketamine Legalh  LSD Meth Mushroom Nicotine Semer  VSA  \n",
       "0      CL0    CL0  CL0  CL0      CL0      CL2   CL0  CL0  \n",
       "1      CL2    CL0  CL2  CL3      CL0      CL4   CL0  CL0  \n",
       "2      CL0    CL0  CL0  CL0      CL1      CL0   CL0  CL0  \n",
       "3      CL2    CL0  CL0  CL0      CL0      CL2   CL0  CL0  \n",
       "4      CL0    CL1  CL0  CL0      CL2      CL2   CL0  CL0  "
      ]
     },
     "execution_count": 20,
     "metadata": {},
     "output_type": "execute_result"
    }
   ],
   "source": [
    "drug = data[[\"Alcohol\",\"Amphet\",\"Amyl\",\"Benzos\",\"Caff\",\"Cannabis\",\"Choc\",\"Coke\",\"Crack\",\"Ecstacy\",\"Heroin\",\"Ketamine\",\"Legalh\",\"LSD\",\"Meth\",\"Mushroom\",\"Nicotine\",\"Semer\",\"VSA\"]]\n",
    "drug.head()\n",
    "#ml algos cannot deal with str so i encode drug values"
   ]
  },
  {
   "cell_type": "code",
   "execution_count": 21,
   "metadata": {},
   "outputs": [
    {
     "name": "stderr",
     "output_type": "stream",
     "text": [
      "/home/yomi/anaconda3/lib/python3.6/site-packages/pandas/core/frame.py:3798: SettingWithCopyWarning: \n",
      "A value is trying to be set on a copy of a slice from a DataFrame\n",
      "\n",
      "See the caveats in the documentation: http://pandas.pydata.org/pandas-docs/stable/indexing.html#indexing-view-versus-copy\n",
      "  method=method)\n"
     ]
    }
   ],
   "source": [
    "drug_use = {\"CL0\": 0, \"CL1\": 1, \"CL2\":2, \"CL3\":3, \"CL4\":4, \"CL5\":5, \"CL6\":6}\n",
    "drug.replace(drug_use, inplace=True)\n",
    "#0 - never used, 1 - used over a decade ago, 2 - used in last decade, 3 - used in last year, 4 - used in last month, 5 - used in last week, 6 - used in last day "
   ]
  },
  {
   "cell_type": "code",
   "execution_count": 22,
   "metadata": {},
   "outputs": [
    {
     "name": "stdout",
     "output_type": "stream",
     "text": [
      "<class 'pandas.core.frame.DataFrame'>\n",
      "RangeIndex: 1885 entries, 0 to 1884\n",
      "Data columns (total 19 columns):\n",
      "Alcohol     1885 non-null int64\n",
      "Amphet      1885 non-null int64\n",
      "Amyl        1885 non-null int64\n",
      "Benzos      1885 non-null int64\n",
      "Caff        1885 non-null int64\n",
      "Cannabis    1885 non-null int64\n",
      "Choc        1885 non-null int64\n",
      "Coke        1885 non-null int64\n",
      "Crack       1885 non-null int64\n",
      "Ecstacy     1885 non-null int64\n",
      "Heroin      1885 non-null int64\n",
      "Ketamine    1885 non-null int64\n",
      "Legalh      1885 non-null int64\n",
      "LSD         1885 non-null int64\n",
      "Meth        1885 non-null int64\n",
      "Mushroom    1885 non-null int64\n",
      "Nicotine    1885 non-null int64\n",
      "Semer       1885 non-null int64\n",
      "VSA         1885 non-null int64\n",
      "dtypes: int64(19)\n",
      "memory usage: 279.9 KB\n"
     ]
    }
   ],
   "source": [
    "drug.info()\n",
    "#no Nans all data processed"
   ]
  },
  {
   "cell_type": "code",
   "execution_count": 23,
   "metadata": {},
   "outputs": [
    {
     "data": {
      "text/html": [
       "<div>\n",
       "<style scoped>\n",
       "    .dataframe tbody tr th:only-of-type {\n",
       "        vertical-align: middle;\n",
       "    }\n",
       "\n",
       "    .dataframe tbody tr th {\n",
       "        vertical-align: top;\n",
       "    }\n",
       "\n",
       "    .dataframe thead th {\n",
       "        text-align: right;\n",
       "    }\n",
       "</style>\n",
       "<table border=\"1\" class=\"dataframe\">\n",
       "  <thead>\n",
       "    <tr style=\"text-align: right;\">\n",
       "      <th></th>\n",
       "      <th>Alcohol</th>\n",
       "      <th>Amphet</th>\n",
       "      <th>Amyl</th>\n",
       "      <th>Benzos</th>\n",
       "      <th>Caff</th>\n",
       "      <th>Cannabis</th>\n",
       "      <th>Choc</th>\n",
       "      <th>Coke</th>\n",
       "      <th>Crack</th>\n",
       "      <th>Ecstacy</th>\n",
       "      <th>Heroin</th>\n",
       "      <th>Ketamine</th>\n",
       "      <th>Legalh</th>\n",
       "      <th>LSD</th>\n",
       "      <th>Meth</th>\n",
       "      <th>Mushroom</th>\n",
       "      <th>Nicotine</th>\n",
       "      <th>Semer</th>\n",
       "      <th>VSA</th>\n",
       "    </tr>\n",
       "  </thead>\n",
       "  <tbody>\n",
       "    <tr>\n",
       "      <th>0</th>\n",
       "      <td>5</td>\n",
       "      <td>2</td>\n",
       "      <td>0</td>\n",
       "      <td>2</td>\n",
       "      <td>6</td>\n",
       "      <td>0</td>\n",
       "      <td>5</td>\n",
       "      <td>0</td>\n",
       "      <td>0</td>\n",
       "      <td>0</td>\n",
       "      <td>0</td>\n",
       "      <td>0</td>\n",
       "      <td>0</td>\n",
       "      <td>0</td>\n",
       "      <td>0</td>\n",
       "      <td>0</td>\n",
       "      <td>2</td>\n",
       "      <td>0</td>\n",
       "      <td>0</td>\n",
       "    </tr>\n",
       "    <tr>\n",
       "      <th>1</th>\n",
       "      <td>5</td>\n",
       "      <td>2</td>\n",
       "      <td>2</td>\n",
       "      <td>0</td>\n",
       "      <td>6</td>\n",
       "      <td>4</td>\n",
       "      <td>6</td>\n",
       "      <td>3</td>\n",
       "      <td>0</td>\n",
       "      <td>4</td>\n",
       "      <td>0</td>\n",
       "      <td>2</td>\n",
       "      <td>0</td>\n",
       "      <td>2</td>\n",
       "      <td>3</td>\n",
       "      <td>0</td>\n",
       "      <td>4</td>\n",
       "      <td>0</td>\n",
       "      <td>0</td>\n",
       "    </tr>\n",
       "    <tr>\n",
       "      <th>2</th>\n",
       "      <td>6</td>\n",
       "      <td>0</td>\n",
       "      <td>0</td>\n",
       "      <td>0</td>\n",
       "      <td>6</td>\n",
       "      <td>3</td>\n",
       "      <td>4</td>\n",
       "      <td>0</td>\n",
       "      <td>0</td>\n",
       "      <td>0</td>\n",
       "      <td>0</td>\n",
       "      <td>0</td>\n",
       "      <td>0</td>\n",
       "      <td>0</td>\n",
       "      <td>0</td>\n",
       "      <td>1</td>\n",
       "      <td>0</td>\n",
       "      <td>0</td>\n",
       "      <td>0</td>\n",
       "    </tr>\n",
       "    <tr>\n",
       "      <th>3</th>\n",
       "      <td>4</td>\n",
       "      <td>0</td>\n",
       "      <td>0</td>\n",
       "      <td>3</td>\n",
       "      <td>5</td>\n",
       "      <td>2</td>\n",
       "      <td>4</td>\n",
       "      <td>2</td>\n",
       "      <td>0</td>\n",
       "      <td>0</td>\n",
       "      <td>0</td>\n",
       "      <td>2</td>\n",
       "      <td>0</td>\n",
       "      <td>0</td>\n",
       "      <td>0</td>\n",
       "      <td>0</td>\n",
       "      <td>2</td>\n",
       "      <td>0</td>\n",
       "      <td>0</td>\n",
       "    </tr>\n",
       "    <tr>\n",
       "      <th>4</th>\n",
       "      <td>4</td>\n",
       "      <td>1</td>\n",
       "      <td>1</td>\n",
       "      <td>0</td>\n",
       "      <td>6</td>\n",
       "      <td>3</td>\n",
       "      <td>6</td>\n",
       "      <td>0</td>\n",
       "      <td>0</td>\n",
       "      <td>1</td>\n",
       "      <td>0</td>\n",
       "      <td>0</td>\n",
       "      <td>1</td>\n",
       "      <td>0</td>\n",
       "      <td>0</td>\n",
       "      <td>2</td>\n",
       "      <td>2</td>\n",
       "      <td>0</td>\n",
       "      <td>0</td>\n",
       "    </tr>\n",
       "  </tbody>\n",
       "</table>\n",
       "</div>"
      ],
      "text/plain": [
       "   Alcohol  Amphet  Amyl  Benzos  Caff  Cannabis  Choc  Coke  Crack  Ecstacy  \\\n",
       "0        5       2     0       2     6         0     5     0      0        0   \n",
       "1        5       2     2       0     6         4     6     3      0        4   \n",
       "2        6       0     0       0     6         3     4     0      0        0   \n",
       "3        4       0     0       3     5         2     4     2      0        0   \n",
       "4        4       1     1       0     6         3     6     0      0        1   \n",
       "\n",
       "   Heroin  Ketamine  Legalh  LSD  Meth  Mushroom  Nicotine  Semer  VSA  \n",
       "0       0         0       0    0     0         0         2      0    0  \n",
       "1       0         2       0    2     3         0         4      0    0  \n",
       "2       0         0       0    0     0         1         0      0    0  \n",
       "3       0         2       0    0     0         0         2      0    0  \n",
       "4       0         0       1    0     0         2         2      0    0  "
      ]
     },
     "execution_count": 23,
     "metadata": {},
     "output_type": "execute_result"
    }
   ],
   "source": [
    "drug.head()\n",
    "#data preprocesed. Moving on to visualization"
   ]
  },
  {
   "cell_type": "markdown",
   "metadata": {},
   "source": [
    "## Exploratory analysis"
   ]
  },
  {
   "cell_type": "markdown",
   "metadata": {},
   "source": [
    "#### Lets start with the inputs and see if we can find anything interesting."
   ]
  },
  {
   "cell_type": "code",
   "execution_count": 24,
   "metadata": {},
   "outputs": [
    {
     "data": {
      "text/plain": [
       "array([[<matplotlib.axes._subplots.AxesSubplot object at 0x7fa6288cdd30>,\n",
       "        <matplotlib.axes._subplots.AxesSubplot object at 0x7fa5f876f358>,\n",
       "        <matplotlib.axes._subplots.AxesSubplot object at 0x7fa5f8717cc0>],\n",
       "       [<matplotlib.axes._subplots.AxesSubplot object at 0x7fa5f86c7668>,\n",
       "        <matplotlib.axes._subplots.AxesSubplot object at 0x7fa5f86e9fd0>,\n",
       "        <matplotlib.axes._subplots.AxesSubplot object at 0x7fa5f8699978>],\n",
       "       [<matplotlib.axes._subplots.AxesSubplot object at 0x7fa5f8648320>,\n",
       "        <matplotlib.axes._subplots.AxesSubplot object at 0x7fa5f866acc0>,\n",
       "        <matplotlib.axes._subplots.AxesSubplot object at 0x7fa5f866acf8>],\n",
       "       [<matplotlib.axes._subplots.AxesSubplot object at 0x7fa5f85c0f98>,\n",
       "        <matplotlib.axes._subplots.AxesSubplot object at 0x7fa5f85ec940>,\n",
       "        <matplotlib.axes._subplots.AxesSubplot object at 0x7fa5f859c2e8>]],\n",
       "      dtype=object)"
      ]
     },
     "execution_count": 24,
     "metadata": {},
     "output_type": "execute_result"
    },
    {
     "data": {
      "image/png": "[encoded data removed]",
      "text/plain": [
       "<Figure size 864x864 with 12 Axes>"
      ]
     },
     "metadata": {
      "needs_background": "light"
     },
     "output_type": "display_data"
    }
   ],
   "source": [
    "X.hist(figsize=(12,12))\n",
    "#Visualizing whole dataset shows sitribution of test subjecyts with '18-24' and '25-34' dominating. For education some college and university degree."
   ]
  },
  {
   "cell_type": "code",
   "execution_count": 25,
   "metadata": {},
   "outputs": [
    {
     "data": {
      "image/png": "[encoded data removed]",
      "text/plain": [
       "<Figure size 864x864 with 2 Axes>"
      ]
     },
     "metadata": {
      "needs_background": "light"
     },
     "output_type": "display_data"
    }
   ],
   "source": [
    "corrmap = X.corr()\n",
    "k = 11\n",
    "cols = corrmap.nlargest(k, 'Escore')['Nscore'].index\n",
    "x_d = X[cols].corr()\n",
    "\n",
    "plt.figure(figsize=(12,12))\n",
    "\n",
    "sns.set(font_scale=1.25)\n",
    "hm = sns.heatmap(x_d,cmap = 'Set3', cbar=True, annot=True,vmin=0,vmax =1, square=True, fmt='.2f', annot_kws={'size': 10},\n",
    "                 yticklabels = cols.values, xticklabels = cols.values)\n",
    "plt.show()\n",
    "\n",
    "#I check correlation with the heat map of the data set. The extraversion score strongly correlates with conscientiousness; impulsiveness with openess to experience; Sensation seeing and openess  "
   ]
  },
  {
   "cell_type": "code",
   "execution_count": 26,
   "metadata": {},
   "outputs": [],
   "source": [
    "# going on to analyse the drugs"
   ]
  },
  {
   "cell_type": "code",
   "execution_count": 27,
   "metadata": {},
   "outputs": [
    {
     "data": {
      "text/plain": [
       "Text(0.5, 1.0, 'Drug use distribution by time')"
      ]
     },
     "execution_count": 27,
     "metadata": {},
     "output_type": "execute_result"
    },
    {
     "data": {
      "image/png": "[encoded data removed]",
      "text/plain": [
       "<Figure size 1080x720 with 18 Axes>"
      ]
     },
     "metadata": {},
     "output_type": "display_data"
    }
   ],
   "source": [
    "fig, ax =plt.subplots(3,6)\n",
    "\n",
    "sns.countplot(drug['Alcohol'], ax=ax[0,0])\n",
    "sns.countplot(drug['Amphet'], ax=ax[0,1])\n",
    "sns.countplot(drug['Amyl'], ax=ax[0,2])\n",
    "sns.countplot(drug['Benzos'], ax=ax[0,3])\n",
    "sns.countplot(drug['Caff'], ax=ax[0,4])\n",
    "sns.countplot(drug['Cannabis'], ax=ax[0,5])\n",
    "sns.countplot(drug['Choc'], ax=ax[2,4])\n",
    "sns.countplot(drug['Coke'], ax=ax[1,0])\n",
    "sns.countplot(drug['Crack'], ax=ax[1,1])\n",
    "sns.countplot(drug['Ecstacy'], ax=ax[1,2])\n",
    "sns.countplot(drug['Heroin'], ax=ax[1,3])\n",
    "sns.countplot(drug['Ketamine'], ax=ax[1,4])\n",
    "sns.countplot(drug['Legalh'], ax=ax[1,5])\n",
    "sns.countplot(drug['LSD'], ax=ax[2,5])\n",
    "sns.countplot(drug['Meth'], ax=ax[2,0])\n",
    "sns.countplot(drug['Mushroom'], ax=ax[2,1])\n",
    "sns.countplot(drug['Nicotine'], ax=ax[2,2])\n",
    "sns.countplot(drug['VSA'], ax=ax[2,3])\n",
    "fig.set_size_inches(15, 10)\n",
    "plt.subplots_adjust(right = 1.5, hspace=0.4)\n",
    "plt.title('Drug use distribution by time')\n",
    "#0 - never used, 1 - used over a decade ago, 2 - used in last decade, 3 - used in last year, 4 - used in last month, 5 - used in last week, 6 - used in last day \n",
    "\n",
    "#some feature enginering - I will do binary regrouping: 0 and 1 will be non user and 3 - 6 will be user"
   ]
  },
  {
   "cell_type": "code",
   "execution_count": 28,
   "metadata": {},
   "outputs": [
    {
     "data": {
      "image/png": "[encoded data removed]",
      "text/plain": [
       "<Figure size 864x720 with 2 Axes>"
      ]
     },
     "metadata": {},
     "output_type": "display_data"
    }
   ],
   "source": [
    "corrmat = drug.corr()\n",
    "k = 18 #number of variables for heatmap\n",
    "cols = corrmat.nlargest(k, 'Cannabis')['Cannabis'].index\n",
    "\n",
    "#cols =cols.drop(['STDs: Time since first diagnosis','STDs: Time since last diagnosis'])\n",
    "\n",
    "drug_d = drug[cols].corr()\n",
    "\n",
    "plt.figure(figsize=(12,10))\n",
    "\n",
    "sns.set(font_scale=1.25)\n",
    "hm = sns.heatmap(drug_d,cmap = 'Set3', cbar=True, annot=True,vmin=0,vmax =1, square=True, fmt='.2f', annot_kws={'size': 10},\n",
    "                 yticklabels = cols.values, xticklabels = cols.values)\n",
    "plt.show()"
   ]
  },
  {
   "cell_type": "code",
   "execution_count": 29,
   "metadata": {},
   "outputs": [
    {
     "name": "stderr",
     "output_type": "stream",
     "text": [
      "/home/yomi/anaconda3/lib/python3.6/site-packages/pandas/core/frame.py:3798: SettingWithCopyWarning: \n",
      "A value is trying to be set on a copy of a slice from a DataFrame\n",
      "\n",
      "See the caveats in the documentation: http://pandas.pydata.org/pandas-docs/stable/indexing.html#indexing-view-versus-copy\n",
      "  method=method)\n"
     ]
    }
   ],
   "source": [
    "drug_use = {0: 0, 1: 0, 2:1, 3:1, 4:1, 5:1, 6:1}\n",
    "drug.replace(drug_use, inplace=True)\n",
    "#reencoding drug use as either 0 - non user and 1 - user"
   ]
  },
  {
   "cell_type": "code",
   "execution_count": 30,
   "metadata": {},
   "outputs": [
    {
     "data": {
      "text/html": [
       "<div>\n",
       "<style scoped>\n",
       "    .dataframe tbody tr th:only-of-type {\n",
       "        vertical-align: middle;\n",
       "    }\n",
       "\n",
       "    .dataframe tbody tr th {\n",
       "        vertical-align: top;\n",
       "    }\n",
       "\n",
       "    .dataframe thead th {\n",
       "        text-align: right;\n",
       "    }\n",
       "</style>\n",
       "<table border=\"1\" class=\"dataframe\">\n",
       "  <thead>\n",
       "    <tr style=\"text-align: right;\">\n",
       "      <th></th>\n",
       "      <th>Alcohol</th>\n",
       "      <th>Amphet</th>\n",
       "      <th>Amyl</th>\n",
       "      <th>Benzos</th>\n",
       "      <th>Caff</th>\n",
       "      <th>Cannabis</th>\n",
       "      <th>Choc</th>\n",
       "      <th>Coke</th>\n",
       "      <th>Crack</th>\n",
       "      <th>Ecstacy</th>\n",
       "      <th>Heroin</th>\n",
       "      <th>Ketamine</th>\n",
       "      <th>Legalh</th>\n",
       "      <th>LSD</th>\n",
       "      <th>Meth</th>\n",
       "      <th>Mushroom</th>\n",
       "      <th>Nicotine</th>\n",
       "      <th>Semer</th>\n",
       "      <th>VSA</th>\n",
       "    </tr>\n",
       "  </thead>\n",
       "  <tbody>\n",
       "    <tr>\n",
       "      <th>0</th>\n",
       "      <td>1</td>\n",
       "      <td>1</td>\n",
       "      <td>0</td>\n",
       "      <td>1</td>\n",
       "      <td>1</td>\n",
       "      <td>0</td>\n",
       "      <td>1</td>\n",
       "      <td>0</td>\n",
       "      <td>0</td>\n",
       "      <td>0</td>\n",
       "      <td>0</td>\n",
       "      <td>0</td>\n",
       "      <td>0</td>\n",
       "      <td>0</td>\n",
       "      <td>0</td>\n",
       "      <td>0</td>\n",
       "      <td>1</td>\n",
       "      <td>0</td>\n",
       "      <td>0</td>\n",
       "    </tr>\n",
       "    <tr>\n",
       "      <th>1</th>\n",
       "      <td>1</td>\n",
       "      <td>1</td>\n",
       "      <td>1</td>\n",
       "      <td>0</td>\n",
       "      <td>1</td>\n",
       "      <td>1</td>\n",
       "      <td>1</td>\n",
       "      <td>1</td>\n",
       "      <td>0</td>\n",
       "      <td>1</td>\n",
       "      <td>0</td>\n",
       "      <td>1</td>\n",
       "      <td>0</td>\n",
       "      <td>1</td>\n",
       "      <td>1</td>\n",
       "      <td>0</td>\n",
       "      <td>1</td>\n",
       "      <td>0</td>\n",
       "      <td>0</td>\n",
       "    </tr>\n",
       "    <tr>\n",
       "      <th>2</th>\n",
       "      <td>1</td>\n",
       "      <td>0</td>\n",
       "      <td>0</td>\n",
       "      <td>0</td>\n",
       "      <td>1</td>\n",
       "      <td>1</td>\n",
       "      <td>1</td>\n",
       "      <td>0</td>\n",
       "      <td>0</td>\n",
       "      <td>0</td>\n",
       "      <td>0</td>\n",
       "      <td>0</td>\n",
       "      <td>0</td>\n",
       "      <td>0</td>\n",
       "      <td>0</td>\n",
       "      <td>0</td>\n",
       "      <td>0</td>\n",
       "      <td>0</td>\n",
       "      <td>0</td>\n",
       "    </tr>\n",
       "    <tr>\n",
       "      <th>3</th>\n",
       "      <td>1</td>\n",
       "      <td>0</td>\n",
       "      <td>0</td>\n",
       "      <td>1</td>\n",
       "      <td>1</td>\n",
       "      <td>1</td>\n",
       "      <td>1</td>\n",
       "      <td>1</td>\n",
       "      <td>0</td>\n",
       "      <td>0</td>\n",
       "      <td>0</td>\n",
       "      <td>1</td>\n",
       "      <td>0</td>\n",
       "      <td>0</td>\n",
       "      <td>0</td>\n",
       "      <td>0</td>\n",
       "      <td>1</td>\n",
       "      <td>0</td>\n",
       "      <td>0</td>\n",
       "    </tr>\n",
       "    <tr>\n",
       "      <th>4</th>\n",
       "      <td>1</td>\n",
       "      <td>0</td>\n",
       "      <td>0</td>\n",
       "      <td>0</td>\n",
       "      <td>1</td>\n",
       "      <td>1</td>\n",
       "      <td>1</td>\n",
       "      <td>0</td>\n",
       "      <td>0</td>\n",
       "      <td>0</td>\n",
       "      <td>0</td>\n",
       "      <td>0</td>\n",
       "      <td>0</td>\n",
       "      <td>0</td>\n",
       "      <td>0</td>\n",
       "      <td>1</td>\n",
       "      <td>1</td>\n",
       "      <td>0</td>\n",
       "      <td>0</td>\n",
       "    </tr>\n",
       "  </tbody>\n",
       "</table>\n",
       "</div>"
      ],
      "text/plain": [
       "   Alcohol  Amphet  Amyl  Benzos  Caff  Cannabis  Choc  Coke  Crack  Ecstacy  \\\n",
       "0        1       1     0       1     1         0     1     0      0        0   \n",
       "1        1       1     1       0     1         1     1     1      0        1   \n",
       "2        1       0     0       0     1         1     1     0      0        0   \n",
       "3        1       0     0       1     1         1     1     1      0        0   \n",
       "4        1       0     0       0     1         1     1     0      0        0   \n",
       "\n",
       "   Heroin  Ketamine  Legalh  LSD  Meth  Mushroom  Nicotine  Semer  VSA  \n",
       "0       0         0       0    0     0         0         1      0    0  \n",
       "1       0         1       0    1     1         0         1      0    0  \n",
       "2       0         0       0    0     0         0         0      0    0  \n",
       "3       0         1       0    0     0         0         1      0    0  \n",
       "4       0         0       0    0     0         1         1      0    0  "
      ]
     },
     "execution_count": 30,
     "metadata": {},
     "output_type": "execute_result"
    }
   ],
   "source": [
    "drug.head()"
   ]
  },
  {
   "cell_type": "code",
   "execution_count": 31,
   "metadata": {},
   "outputs": [
    {
     "data": {
      "text/plain": [
       "<matplotlib.axes._subplots.AxesSubplot at 0x7fa5f84aa358>"
      ]
     },
     "execution_count": 31,
     "metadata": {},
     "output_type": "execute_result"
    },
    {
     "data": {
      "image/png": "[encoded data removed]",
      "text/plain": [
       "<Figure size 432x288 with 1 Axes>"
      ]
     },
     "metadata": {},
     "output_type": "display_data"
    }
   ],
   "source": [
    "sns.countplot(drug['Alcohol']) "
   ]
  },
  {
   "cell_type": "code",
   "execution_count": 32,
   "metadata": {},
   "outputs": [
    {
     "data": {
      "text/plain": [
       "<matplotlib.axes._subplots.AxesSubplot at 0x7fa5f40b66d8>"
      ]
     },
     "execution_count": 32,
     "metadata": {},
     "output_type": "execute_result"
    },
    {
     "data": {
      "image/png": "[encoded data removed]",
      "text/plain": [
       "<Figure size 432x288 with 1 Axes>"
      ]
     },
     "metadata": {},
     "output_type": "display_data"
    }
   ],
   "source": [
    "sns.countplot(drug['Cannabis'])"
   ]
  },
  {
   "cell_type": "code",
   "execution_count": 33,
   "metadata": {},
   "outputs": [
    {
     "data": {
      "text/plain": [
       "<matplotlib.axes._subplots.AxesSubplot at 0x7fa5f8398b00>"
      ]
     },
     "execution_count": 33,
     "metadata": {},
     "output_type": "execute_result"
    },
    {
     "data": {
      "image/png": "[encoded data removed]",
      "text/plain": [
       "<Figure size 432x288 with 1 Axes>"
      ]
     },
     "metadata": {},
     "output_type": "display_data"
    }
   ],
   "source": [
    "sns.countplot(drug['Nicotine']) "
   ]
  },
  {
   "cell_type": "markdown",
   "metadata": {},
   "source": [
    "## Building ML model and analysis of obtained results \n",
    "The correlation heat map shows some good correlation between certain groups of drugs which correspondings to the finding in the research paper attached to the end of the UCI dataset page.\n",
    "In the paper, the drugs were grouped into three pleiad viz. - \n",
    "\n",
    "Heroin pleiad (crack, cocaine, meth and heroine), Ecstasy pleiad (Amphet, Cannabis, Cocaine, Ketamine, LSD, Magic Mushrooms, Legalh and ecstacy) and Benzos pleiad(Meth, Amp and cocaine).\n",
    "\n",
    "Going forward i am going to work with Cannabis, Alcohol and Nicotine. Cannabis will cover all the other pleiads while Alcohol and Nicotine are not part of the pleiad and will thus be looked at separately.\n",
    "\n",
    "So in general for the machine learning. I will classify as drug users or non-users. I will do this for three types - Alcohol, Nicotine and Cannabis(a representative of other drugs in pleiads).\n",
    "\n",
    "For each i will test differe ML algos, build cross validation and show results.  I will analyzer the ML algos and say which performed best and give other comments as to workings. "
   ]
  },
  {
   "cell_type": "code",
   "execution_count": 34,
   "metadata": {},
   "outputs": [],
   "source": [
    "from sklearn.neighbors import KNeighborsClassifier\n",
    "from sklearn.linear_model import LogisticRegression\n",
    "from sklearn.ensemble import RandomForestClassifier, GradientBoostingClassifier\n",
    "from sklearn.gaussian_process import GaussianProcessClassifier\n",
    "from sklearn.metrics import f1_score, classification_report\n",
    "from sklearn.model_selection import cross_val_score, KFold, cross_val_predict, train_test_split\n"
   ]
  },
  {
   "cell_type": "code",
   "execution_count": 35,
   "metadata": {},
   "outputs": [],
   "source": [
    "y1 = drug['Cannabis']\n",
    "y2 = drug['Crack']\n",
    "y3 = drug['Nicotine']"
   ]
  },
  {
   "cell_type": "markdown",
   "metadata": {},
   "source": [
    "#### For Cannabis "
   ]
  },
  {
   "cell_type": "code",
   "execution_count": 37,
   "metadata": {},
   "outputs": [
    {
     "name": "stdout",
     "output_type": "stream",
     "text": [
      "KFold score for Logistic Regression: 0.862 ± 0.016\n"
     ]
    },
    {
     "name": "stderr",
     "output_type": "stream",
     "text": [
      "/home/yomi/anaconda3/lib/python3.6/site-packages/sklearn/linear_model/logistic.py:432: FutureWarning: Default solver will be changed to 'lbfgs' in 0.22. Specify a solver to silence this warning.\n",
      "  FutureWarning)\n",
      "/home/yomi/anaconda3/lib/python3.6/site-packages/sklearn/linear_model/logistic.py:432: FutureWarning: Default solver will be changed to 'lbfgs' in 0.22. Specify a solver to silence this warning.\n",
      "  FutureWarning)\n",
      "/home/yomi/anaconda3/lib/python3.6/site-packages/sklearn/linear_model/logistic.py:432: FutureWarning: Default solver will be changed to 'lbfgs' in 0.22. Specify a solver to silence this warning.\n",
      "  FutureWarning)\n",
      "/home/yomi/anaconda3/lib/python3.6/site-packages/sklearn/linear_model/logistic.py:432: FutureWarning: Default solver will be changed to 'lbfgs' in 0.22. Specify a solver to silence this warning.\n",
      "  FutureWarning)\n",
      "/home/yomi/anaconda3/lib/python3.6/site-packages/sklearn/linear_model/logistic.py:432: FutureWarning: Default solver will be changed to 'lbfgs' in 0.22. Specify a solver to silence this warning.\n",
      "  FutureWarning)\n"
     ]
    }
   ],
   "source": [
    "\n",
    "kfold = KFold(n_splits=5, shuffle=True)\n",
    "cv = kfold.split(X, y1)\n",
    "\n",
    "#Logistic Regression\n",
    "clf_LR = LogisticRegression()\n",
    "scores = cross_val_score(clf_LR, X, y1, scoring='roc_auc', cv=cv)\n",
    "print('KFold score for Logistic Regression: {0:.3f} ± {1:.3f}'.format(scores.mean(), scores.std()) )\n",
    "\n",
    "#Using roc_auc for scoring because it is invariant under class distribution and can be applied to dataset with different distribution of class  as we have in our case. The best model will be the one with highest roc_auc score"
   ]
  },
  {
   "cell_type": "code",
   "execution_count": 38,
   "metadata": {},
   "outputs": [
    {
     "name": "stdout",
     "output_type": "stream",
     "text": [
      "KFold score for  KNeighborsClassifier: 0.820 ± 0.015\n"
     ]
    }
   ],
   "source": [
    "#KNearestNeigbors\n",
    "kfold = KFold(n_splits=5, shuffle=True)\n",
    "cv = kfold.split(X, y1)\n",
    "clf_KNN =  KNeighborsClassifier(n_neighbors=5)\n",
    "scores = cross_val_score(clf_KNN, X, y1, scoring='roc_auc', cv=cv)\n",
    "print('KFold score for  KNeighborsClassifier: {0:.3f} ± {1:.3f}'.format(scores.mean(), scores.std()) )"
   ]
  },
  {
   "cell_type": "code",
   "execution_count": 39,
   "metadata": {},
   "outputs": [
    {
     "name": "stdout",
     "output_type": "stream",
     "text": [
      "KFold score for Random Forest: 0.863 ± 0.015\n"
     ]
    }
   ],
   "source": [
    "#Random Forest\n",
    "kfold = KFold(n_splits=5, shuffle=True)\n",
    "cv = kfold.split(X, y1)\n",
    "clf_RF = RandomForestClassifier(max_depth=25, random_state=42, n_estimators=100)\n",
    "scores = cross_val_score(clf_RF, X, y1, scoring='roc_auc', cv=cv)\n",
    "print('KFold score for Random Forest: {0:.3f} ± {1:.3f}'.format(scores.mean(), scores.std()) )\n",
    "\n"
   ]
  },
  {
   "cell_type": "code",
   "execution_count": 40,
   "metadata": {},
   "outputs": [],
   "source": [
    "#Finding best hyperparameter for Random Forest\n",
    "from sklearn.model_selection import GridSearchCV\n",
    "# Create the parameter grid \n",
    "#param_grid = {\n",
    " #   'bootstrap': [True],\n",
    "  #  'max_depth': [20, 25, 35, 45, 55 ,65, 70, 80, 90, 100, 110],\n",
    "   # 'max_features': [2, 3, 4, 5],\n",
    "    #'min_samples_leaf': [3, 4, 5],\n",
    "    #'min_samples_split': [8, 10, 12],\n",
    "    #'n_estimators': [40, 50, 60, 80, 100, 200, 300, 500, 1000]}\n",
    "# Create a based model\n",
    "#rf = RandomForestClassifier()\n",
    "# Instantiate the grid search model\n",
    "#grid_search = GridSearchCV(estimator = rf, param_grid = param_grid, \n",
    " #                         cv = 3, n_jobs = -1, verbose = 2)\n",
    "#grid_search.fit(X, y1)\n",
    "#grid_search.best_params_"
   ]
  },
  {
   "cell_type": "code",
   "execution_count": 41,
   "metadata": {},
   "outputs": [
    {
     "name": "stdout",
     "output_type": "stream",
     "text": [
      "KFold score for Gradient Boosting: 0.712 ± 0.034\n"
     ]
    }
   ],
   "source": [
    "#Gradient Boosting\n",
    "kfold = KFold(n_splits=5, shuffle=True)\n",
    "cv = kfold.split(X, y1)\n",
    "clf_GB = GradientBoostingClassifier(max_depth=25, random_state=45, n_estimators=10)\n",
    "scores = cross_val_score(clf_GB, X, y1, scoring='roc_auc', cv=cv)\n",
    "print('KFold score for Gradient Boosting: {0:.3f} ± {1:.3f}'.format(scores.mean(), scores.std()) )\n"
   ]
  },
  {
   "cell_type": "code",
   "execution_count": 42,
   "metadata": {},
   "outputs": [
    {
     "name": "stdout",
     "output_type": "stream",
     "text": [
      "KFold score for Gausian Process: 0.835 ± 0.014\n"
     ]
    }
   ],
   "source": [
    "#Gaussian Process \n",
    "kfold = KFold(n_splits=5, shuffle=True)\n",
    "cv = kfold.split(X, y1)\n",
    "clf_GP = GaussianProcessClassifier()\n",
    "scores = cross_val_score(clf_GP, X, y1, scoring='roc_auc', cv=cv)\n",
    "print('KFold score for Gausian Process: {0:.3f} ± {1:.3f}'.format(scores.mean(), scores.std()) )"
   ]
  },
  {
   "cell_type": "markdown",
   "metadata": {},
   "source": [
    "#### For Alcohol"
   ]
  },
  {
   "cell_type": "code",
   "execution_count": 43,
   "metadata": {},
   "outputs": [
    {
     "name": "stdout",
     "output_type": "stream",
     "text": [
      "KFold score for Logistic Regression: 0.735 ± 0.022\n"
     ]
    },
    {
     "name": "stderr",
     "output_type": "stream",
     "text": [
      "/home/yomi/anaconda3/lib/python3.6/site-packages/sklearn/linear_model/logistic.py:432: FutureWarning: Default solver will be changed to 'lbfgs' in 0.22. Specify a solver to silence this warning.\n",
      "  FutureWarning)\n",
      "/home/yomi/anaconda3/lib/python3.6/site-packages/sklearn/linear_model/logistic.py:432: FutureWarning: Default solver will be changed to 'lbfgs' in 0.22. Specify a solver to silence this warning.\n",
      "  FutureWarning)\n",
      "/home/yomi/anaconda3/lib/python3.6/site-packages/sklearn/linear_model/logistic.py:432: FutureWarning: Default solver will be changed to 'lbfgs' in 0.22. Specify a solver to silence this warning.\n",
      "  FutureWarning)\n",
      "/home/yomi/anaconda3/lib/python3.6/site-packages/sklearn/linear_model/logistic.py:432: FutureWarning: Default solver will be changed to 'lbfgs' in 0.22. Specify a solver to silence this warning.\n",
      "  FutureWarning)\n",
      "/home/yomi/anaconda3/lib/python3.6/site-packages/sklearn/linear_model/logistic.py:432: FutureWarning: Default solver will be changed to 'lbfgs' in 0.22. Specify a solver to silence this warning.\n",
      "  FutureWarning)\n"
     ]
    }
   ],
   "source": [
    "kfold = KFold(n_splits=5, shuffle=True)\n",
    "cv = kfold.split(X, y2)\n",
    "\n",
    "#Logistic Regression\n",
    "clf2_LR = LogisticRegression()\n",
    "scores = cross_val_score(clf2_LR, X, y2, scoring='roc_auc', cv=cv)\n",
    "print('KFold score for Logistic Regression: {0:.3f} ± {1:.3f}'.format(scores.mean(), scores.std()) )\n"
   ]
  },
  {
   "cell_type": "code",
   "execution_count": 44,
   "metadata": {},
   "outputs": [
    {
     "name": "stdout",
     "output_type": "stream",
     "text": [
      "KFold score for  KNeighborsClassifier: 0.659 ± 0.034\n"
     ]
    }
   ],
   "source": [
    "#KNearestNeigbors\n",
    "kfold = KFold(n_splits=5, shuffle=True)\n",
    "cv = kfold.split(X, y2)\n",
    "clf2_KNN =  KNeighborsClassifier(n_neighbors=5)\n",
    "scores = cross_val_score(clf2_KNN, X, y2, scoring='roc_auc', cv=cv)\n",
    "print('KFold score for  KNeighborsClassifier: {0:.3f} ± {1:.3f}'.format(scores.mean(), scores.std()) )"
   ]
  },
  {
   "cell_type": "code",
   "execution_count": 45,
   "metadata": {},
   "outputs": [
    {
     "name": "stdout",
     "output_type": "stream",
     "text": [
      "KFold score for Random Forest: 0.724 ± 0.023\n"
     ]
    }
   ],
   "source": [
    "#Random Forest\n",
    "kfold = KFold(n_splits=5, shuffle=True)\n",
    "cv = kfold.split(X, y2)\n",
    "clf2_RF = RandomForestClassifier(max_depth=25, random_state=42, n_estimators=100)\n",
    "scores = cross_val_score(clf2_RF, X, y2, scoring='roc_auc', cv=cv)\n",
    "print('KFold score for Random Forest: {0:.3f} ± {1:.3f}'.format(scores.mean(), scores.std()) )\n",
    "\n"
   ]
  },
  {
   "cell_type": "code",
   "execution_count": 46,
   "metadata": {},
   "outputs": [
    {
     "name": "stdout",
     "output_type": "stream",
     "text": [
      "KFold score for Gradient Boosting: 0.584 ± 0.008\n"
     ]
    }
   ],
   "source": [
    "#Gradient Boosting\n",
    "kfold = KFold(n_splits=5, shuffle=True)\n",
    "cv = kfold.split(X, y2)\n",
    "clf2_GB = GradientBoostingClassifier(max_depth=25, random_state=45, n_estimators=10)\n",
    "scores = cross_val_score(clf2_GB, X, y2, scoring='roc_auc', cv=cv)\n",
    "print('KFold score for Gradient Boosting: {0:.3f} ± {1:.3f}'.format(scores.mean(), scores.std()) )\n"
   ]
  },
  {
   "cell_type": "code",
   "execution_count": 47,
   "metadata": {},
   "outputs": [
    {
     "name": "stdout",
     "output_type": "stream",
     "text": [
      "KFold score for Gausian Process: 0.607 ± 0.047\n"
     ]
    }
   ],
   "source": [
    "#Gaussian Process \n",
    "kfold = KFold(n_splits=5, shuffle=True)\n",
    "cv = kfold.split(X, y2)\n",
    "clf2_GP = GaussianProcessClassifier()\n",
    "scores = cross_val_score(clf2_GP, X, y2, scoring='roc_auc', cv=cv)\n",
    "print('KFold score for Gausian Process: {0:.3f} ± {1:.3f}'.format(scores.mean(), scores.std()) )"
   ]
  },
  {
   "cell_type": "markdown",
   "metadata": {},
   "source": [
    "#### For Nicotine"
   ]
  },
  {
   "cell_type": "code",
   "execution_count": 48,
   "metadata": {},
   "outputs": [
    {
     "name": "stdout",
     "output_type": "stream",
     "text": [
      "KFold score for Logistic Regression: 0.760 ± 0.017\n"
     ]
    },
    {
     "name": "stderr",
     "output_type": "stream",
     "text": [
      "/home/yomi/anaconda3/lib/python3.6/site-packages/sklearn/linear_model/logistic.py:432: FutureWarning: Default solver will be changed to 'lbfgs' in 0.22. Specify a solver to silence this warning.\n",
      "  FutureWarning)\n",
      "/home/yomi/anaconda3/lib/python3.6/site-packages/sklearn/linear_model/logistic.py:432: FutureWarning: Default solver will be changed to 'lbfgs' in 0.22. Specify a solver to silence this warning.\n",
      "  FutureWarning)\n",
      "/home/yomi/anaconda3/lib/python3.6/site-packages/sklearn/linear_model/logistic.py:432: FutureWarning: Default solver will be changed to 'lbfgs' in 0.22. Specify a solver to silence this warning.\n",
      "  FutureWarning)\n",
      "/home/yomi/anaconda3/lib/python3.6/site-packages/sklearn/linear_model/logistic.py:432: FutureWarning: Default solver will be changed to 'lbfgs' in 0.22. Specify a solver to silence this warning.\n",
      "  FutureWarning)\n",
      "/home/yomi/anaconda3/lib/python3.6/site-packages/sklearn/linear_model/logistic.py:432: FutureWarning: Default solver will be changed to 'lbfgs' in 0.22. Specify a solver to silence this warning.\n",
      "  FutureWarning)\n"
     ]
    }
   ],
   "source": [
    "kfold = KFold(n_splits=5, shuffle=True)\n",
    "cv = kfold.split(X, y3)\n",
    "\n",
    "#Logistic Regression\n",
    "clf3_LR = LogisticRegression()\n",
    "scores = cross_val_score(clf3_LR, X, y3, scoring='roc_auc', cv=cv)\n",
    "print('KFold score for Logistic Regression: {0:.3f} ± {1:.3f}'.format(scores.mean(), scores.std()) )\n"
   ]
  },
  {
   "cell_type": "code",
   "execution_count": 49,
   "metadata": {},
   "outputs": [
    {
     "name": "stdout",
     "output_type": "stream",
     "text": [
      "KFold score for  KNeighborsClassifier: 0.677 ± 0.024\n"
     ]
    }
   ],
   "source": [
    "#KNearestNeigbors\n",
    "kfold = KFold(n_splits=5, shuffle=True)\n",
    "cv = kfold.split(X, y3)\n",
    "clf3_KNN =  KNeighborsClassifier(n_neighbors=5)\n",
    "scores = cross_val_score(clf3_KNN, X, y3, scoring='roc_auc', cv=cv)\n",
    "print('KFold score for  KNeighborsClassifier: {0:.3f} ± {1:.3f}'.format(scores.mean(), scores.std()) )"
   ]
  },
  {
   "cell_type": "code",
   "execution_count": 50,
   "metadata": {},
   "outputs": [
    {
     "name": "stdout",
     "output_type": "stream",
     "text": [
      "KFold score for Random Forest: 0.747 ± 0.025\n"
     ]
    }
   ],
   "source": [
    "#Random Forest\n",
    "kfold = KFold(n_splits=5, shuffle=True)\n",
    "cv = kfold.split(X, y3)\n",
    "clf3_RF = RandomForestClassifier(max_depth=25, random_state=42, n_estimators=100)\n",
    "scores = cross_val_score(clf3_RF, X, y3, scoring='roc_auc', cv=cv)\n",
    "print('KFold score for Random Forest: {0:.3f} ± {1:.3f}'.format(scores.mean(), scores.std()) )\n",
    "\n"
   ]
  },
  {
   "cell_type": "code",
   "execution_count": 51,
   "metadata": {},
   "outputs": [
    {
     "name": "stdout",
     "output_type": "stream",
     "text": [
      "KFold score for Gradient Boosting: 0.596 ± 0.026\n"
     ]
    }
   ],
   "source": [
    "#Gradient Boosting\n",
    "kfold = KFold(n_splits=5, shuffle=True)\n",
    "cv = kfold.split(X, y3)\n",
    "clf3_GB = GradientBoostingClassifier(max_depth=25, random_state=45, n_estimators=10)\n",
    "scores = cross_val_score(clf3_GB, X, y3, scoring='roc_auc', cv=cv)\n",
    "print('KFold score for Gradient Boosting: {0:.3f} ± {1:.3f}'.format(scores.mean(), scores.std()) )\n"
   ]
  },
  {
   "cell_type": "code",
   "execution_count": 52,
   "metadata": {},
   "outputs": [
    {
     "name": "stdout",
     "output_type": "stream",
     "text": [
      "KFold score for Gausian Process: 0.725 ± 0.013\n"
     ]
    }
   ],
   "source": [
    "#Gaussian Process \n",
    "kfold = KFold(n_splits=5, shuffle=True)\n",
    "cv = kfold.split(X, y3)\n",
    "clf3_GP = GaussianProcessClassifier()\n",
    "scores = cross_val_score(clf3_GP, X, y3, scoring='roc_auc', cv=cv)\n",
    "print('KFold score for Gausian Process: {0:.3f} ± {1:.3f}'.format(scores.mean(), scores.std()) )"
   ]
  },
  {
   "cell_type": "markdown",
   "metadata": {},
   "source": [
    "## Conclusion"
   ]
  },
  {
   "cell_type": "markdown",
   "metadata": {},
   "source": [
    "The obtained result where interesting as cannabis which i thought of first had a very good score with the used metric showing it's ability to correctly classify the dataset. I was suprised at Nicotine coming in second as i expected Alcohol to be the second best.\n",
    "I think further tweaking and finding best optimal hyperparameters might change things a little bit. \n",
    "\n",
    "\n",
    "In general, this model can be used in a real-life scenario for quick prediction but in order to make a much more enlighteningned classification we would need more data (that are not in the dataset) to better the workings of our model. Witht he current available data i think the model works just fine \n",
    "and if we have more test data of the same kind we can predict to such level of accuracy as obtained from the model.\n",
    "\n",
    "Logistic Regression and Random Forest Classifier shows the best results in all algrithms considered and are recommended for use.\n",
    "\n",
    "Tried to find best hyperparameters but too long to process and not so much significant difference from default so i used default settings"
   ]
  },
  {
   "cell_type": "code",
   "execution_count": null,
   "metadata": {},
   "outputs": [],
   "source": []
  }
 ],
 "metadata": {
  "kernelspec": {
   "display_name": "Python 3",
   "language": "python",
   "name": "python3"
  },
  "language_info": {
   "codemirror_mode": {
    "name": "ipython",
    "version": 3
   },
   "file_extension": ".py",
   "mimetype": "text/x-python",
   "name": "python",
   "nbconvert_exporter": "python",
   "pygments_lexer": "ipython3",
   "version": "3.6.6"
  }
 },
 "nbformat": 4,
 "nbformat_minor": 2
}
